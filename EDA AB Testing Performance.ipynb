{
 "cells": [
  {
   "cell_type": "markdown",
   "id": "957fef1a",
   "metadata": {},
   "source": [
    "# Retail Outlet Performance Evaluation"
   ]
  },
  {
   "cell_type": "markdown",
   "id": "85ce0dd0",
   "metadata": {},
   "source": [
    "## 1. Business Understanding "
   ]
  },
  {
   "cell_type": "markdown",
   "id": "0fac8aab",
   "metadata": {},
   "source": [
    "### 1.1 Introduction\n",
    "\n",
    "The project aims to analyze the sales performance of retail outlets, specifically focusing on the sales data of \"Home World,\" a retailer of building materials. The analysis will cover various aspects, including transaction frequency, daily sales values, customer behavior, and the impact of loyalty programs on sales. By examining these factors, we aim to identify trends, patterns, and insights that can help optimize sales strategies and improve overall performance."
   ]
  },
  {
   "cell_type": "markdown",
   "id": "00d0db5f-38d9-4709-8b12-4e3a8b4ec559",
   "metadata": {},
   "source": [
    "### 1.2 Objectives\n",
    "\n",
    "1. **Transaction Analysis**: To evaluate the daily transaction frequency and sales values, identifying peak and low periods.\n",
    "2. **Customer Behavior**: To analyze customer behavior, including new customer acquisition rates and daily customer counts.\n",
    "3. **Seller Performance**: To assess the performance of different sellers based on transaction counts and sales values.\n",
    "4. **Loyalty Program Impact**: To investigate the effect of loyalty programs on transaction rates and average sales values.\n"
   ]
  },
  {
   "cell_type": "markdown",
   "id": "31ff5e66-64b8-4fff-b465-09a4c4a1de08",
   "metadata": {},
   "source": [
    "### 1.3 Methodology\n",
    "\n",
    "This project will utilize data from December 2016 to February 2017, covering a total of 105,335 transactions. The analysis will involve statistical methods, including Z-test for proportion, to determine the significance of loyalty programs on sales performance."
   ]
  },
  {
   "cell_type": "markdown",
   "id": "1fcc4cf6",
   "metadata": {},
   "source": [
    "### 1.4 Data Description"
   ]
  },
  {
   "cell_type": "markdown",
   "id": "e6129176",
   "metadata": {},
   "source": [
    "The available dataset contains data about purchases made at a retailer of building materials, \"Home World.\" All customers have a membership card. Note that customers can join the store's loyalty program for $20 per month. This program includes discounts, special offer information, and some rewards."
   ]
  },
  {
   "cell_type": "markdown",
   "id": "5f39d6a7",
   "metadata": {},
   "source": [
    "- **retail_dataset_us.csv** contains:\n",
    "  - **purchaseID** — Transaction ID in one receipt\n",
    "  - **item_ID** — Product/Item ID sold by the seller\n",
    "  - **purchasedate** — Date when the transaction occurred\n",
    "  - **Quantity** — Number of items in the purchase\n",
    "  - **CustomerID** — Customer/Patron ID\n",
    "  - **ShopID** — Seller/Vendor ID\n",
    "  - **loyalty_program** — Whether the customer is a member of the loyalty program"
   ]
  },
  {
   "cell_type": "markdown",
   "id": "9b96d9e8",
   "metadata": {},
   "source": [
    "- **product_codes_us.csv** contains:\n",
    "  - **price_per_one** — Price of the item per quantity\n",
    "  - **productID** — Product/Item ID sold by the seller"
   ]
  },
  {
   "cell_type": "markdown",
   "id": "5b5c7b3e",
   "metadata": {},
   "source": [
    "## 2. Data Mining"
   ]
  },
  {
   "cell_type": "code",
   "execution_count": 1,
   "id": "9953f9fb",
   "metadata": {},
   "outputs": [],
   "source": [
    "#import library\n",
    "import pandas as pd\n",
    "import numpy as np\n",
    "import matplotlib.pyplot as plt\n",
    "import seaborn as sns\n",
    "from statsmodels.stats.proportion import proportions_ztest"
   ]
  },
  {
   "cell_type": "code",
   "execution_count": 2,
   "id": "7dcd3075",
   "metadata": {
    "scrolled": true
   },
   "outputs": [],
   "source": [
    "# import dataset\n",
    "price=pd.read_csv('product_codes_us.csv',sep=';')\n",
    "data=pd.read_csv('retail_dataset_us.csv')"
   ]
  },
  {
   "cell_type": "code",
   "execution_count": 3,
   "id": "19a6235b",
   "metadata": {
    "scrolled": true
   },
   "outputs": [
    {
     "data": {
      "text/html": [
       "<div>\n",
       "<style scoped>\n",
       "    .dataframe tbody tr th:only-of-type {\n",
       "        vertical-align: middle;\n",
       "    }\n",
       "\n",
       "    .dataframe tbody tr th {\n",
       "        vertical-align: top;\n",
       "    }\n",
       "\n",
       "    .dataframe thead th {\n",
       "        text-align: right;\n",
       "    }\n",
       "</style>\n",
       "<table border=\"1\" class=\"dataframe\">\n",
       "  <thead>\n",
       "    <tr style=\"text-align: right;\">\n",
       "      <th></th>\n",
       "      <th>purchaseid</th>\n",
       "      <th>item_ID</th>\n",
       "      <th>Quantity</th>\n",
       "      <th>purchasedate</th>\n",
       "      <th>CustomerID</th>\n",
       "      <th>loyalty_program</th>\n",
       "      <th>ShopID</th>\n",
       "      <th>productID</th>\n",
       "      <th>price_per_one</th>\n",
       "    </tr>\n",
       "  </thead>\n",
       "  <tbody>\n",
       "    <tr>\n",
       "      <th>0</th>\n",
       "      <td>538280</td>\n",
       "      <td>21873</td>\n",
       "      <td>11</td>\n",
       "      <td>2016-12-10 12:50:00</td>\n",
       "      <td>18427.0</td>\n",
       "      <td>0</td>\n",
       "      <td>Shop 3</td>\n",
       "      <td>21873</td>\n",
       "      <td>0.42</td>\n",
       "    </tr>\n",
       "    <tr>\n",
       "      <th>1</th>\n",
       "      <td>538862</td>\n",
       "      <td>22195</td>\n",
       "      <td>0</td>\n",
       "      <td>2016-12-14 14:11:00</td>\n",
       "      <td>22389.0</td>\n",
       "      <td>1</td>\n",
       "      <td>Shop 2</td>\n",
       "      <td>22195</td>\n",
       "      <td>1.65</td>\n",
       "    </tr>\n",
       "    <tr>\n",
       "      <th>2</th>\n",
       "      <td>538855</td>\n",
       "      <td>21239</td>\n",
       "      <td>7</td>\n",
       "      <td>2016-12-14 13:50:00</td>\n",
       "      <td>22182.0</td>\n",
       "      <td>1</td>\n",
       "      <td>Shop 3</td>\n",
       "      <td>21239</td>\n",
       "      <td>0.72</td>\n",
       "    </tr>\n",
       "    <tr>\n",
       "      <th>3</th>\n",
       "      <td>543543</td>\n",
       "      <td>22271</td>\n",
       "      <td>0</td>\n",
       "      <td>2017-02-09 15:33:00</td>\n",
       "      <td>23522.0</td>\n",
       "      <td>1</td>\n",
       "      <td>Shop 28</td>\n",
       "      <td>22271</td>\n",
       "      <td>2.55</td>\n",
       "    </tr>\n",
       "    <tr>\n",
       "      <th>4</th>\n",
       "      <td>543812</td>\n",
       "      <td>79321</td>\n",
       "      <td>0</td>\n",
       "      <td>2017-02-13 14:40:00</td>\n",
       "      <td>23151.0</td>\n",
       "      <td>1</td>\n",
       "      <td>Shop 28</td>\n",
       "      <td>79321</td>\n",
       "      <td>0.00</td>\n",
       "    </tr>\n",
       "    <tr>\n",
       "      <th>...</th>\n",
       "      <td>...</td>\n",
       "      <td>...</td>\n",
       "      <td>...</td>\n",
       "      <td>...</td>\n",
       "      <td>...</td>\n",
       "      <td>...</td>\n",
       "      <td>...</td>\n",
       "      <td>...</td>\n",
       "      <td>...</td>\n",
       "    </tr>\n",
       "    <tr>\n",
       "      <th>105330</th>\n",
       "      <td>538566</td>\n",
       "      <td>21826</td>\n",
       "      <td>1</td>\n",
       "      <td>2016-12-13 11:21:00</td>\n",
       "      <td>NaN</td>\n",
       "      <td>0</td>\n",
       "      <td>Shop 0</td>\n",
       "      <td>21826</td>\n",
       "      <td>1.25</td>\n",
       "    </tr>\n",
       "    <tr>\n",
       "      <th>105331</th>\n",
       "      <td>540247</td>\n",
       "      <td>21742</td>\n",
       "      <td>0</td>\n",
       "      <td>2017-01-05 15:56:00</td>\n",
       "      <td>21143.0</td>\n",
       "      <td>0</td>\n",
       "      <td>Shop 24</td>\n",
       "      <td>21742</td>\n",
       "      <td>5.95</td>\n",
       "    </tr>\n",
       "    <tr>\n",
       "      <th>105332</th>\n",
       "      <td>538068</td>\n",
       "      <td>85048</td>\n",
       "      <td>1</td>\n",
       "      <td>2016-12-09 14:05:00</td>\n",
       "      <td>23657.0</td>\n",
       "      <td>1</td>\n",
       "      <td>Shop 16</td>\n",
       "      <td>85048</td>\n",
       "      <td>6.95</td>\n",
       "    </tr>\n",
       "    <tr>\n",
       "      <th>105333</th>\n",
       "      <td>538207</td>\n",
       "      <td>22818</td>\n",
       "      <td>11</td>\n",
       "      <td>2016-12-10 11:33:00</td>\n",
       "      <td>18427.0</td>\n",
       "      <td>0</td>\n",
       "      <td>Shop 29</td>\n",
       "      <td>22818</td>\n",
       "      <td>0.42</td>\n",
       "    </tr>\n",
       "    <tr>\n",
       "      <th>105334</th>\n",
       "      <td>543977</td>\n",
       "      <td>22384</td>\n",
       "      <td>9</td>\n",
       "      <td>2017-02-14 15:35:00</td>\n",
       "      <td>21294.0</td>\n",
       "      <td>0</td>\n",
       "      <td>Shop 19</td>\n",
       "      <td>22384</td>\n",
       "      <td>1.45</td>\n",
       "    </tr>\n",
       "  </tbody>\n",
       "</table>\n",
       "<p>105335 rows × 9 columns</p>\n",
       "</div>"
      ],
      "text/plain": [
       "       purchaseid item_ID  Quantity         purchasedate  CustomerID  \\\n",
       "0          538280   21873        11  2016-12-10 12:50:00     18427.0   \n",
       "1          538862   22195         0  2016-12-14 14:11:00     22389.0   \n",
       "2          538855   21239         7  2016-12-14 13:50:00     22182.0   \n",
       "3          543543   22271         0  2017-02-09 15:33:00     23522.0   \n",
       "4          543812   79321         0  2017-02-13 14:40:00     23151.0   \n",
       "...           ...     ...       ...                  ...         ...   \n",
       "105330     538566   21826         1  2016-12-13 11:21:00         NaN   \n",
       "105331     540247   21742         0  2017-01-05 15:56:00     21143.0   \n",
       "105332     538068   85048         1  2016-12-09 14:05:00     23657.0   \n",
       "105333     538207   22818        11  2016-12-10 11:33:00     18427.0   \n",
       "105334     543977   22384         9  2017-02-14 15:35:00     21294.0   \n",
       "\n",
       "        loyalty_program   ShopID productID  price_per_one  \n",
       "0                     0   Shop 3     21873           0.42  \n",
       "1                     1   Shop 2     22195           1.65  \n",
       "2                     1   Shop 3     21239           0.72  \n",
       "3                     1  Shop 28     22271           2.55  \n",
       "4                     1  Shop 28     79321           0.00  \n",
       "...                 ...      ...       ...            ...  \n",
       "105330                0   Shop 0     21826           1.25  \n",
       "105331                0  Shop 24     21742           5.95  \n",
       "105332                1  Shop 16     85048           6.95  \n",
       "105333                0  Shop 29     22818           0.42  \n",
       "105334                0  Shop 19     22384           1.45  \n",
       "\n",
       "[105335 rows x 9 columns]"
      ]
     },
     "execution_count": 3,
     "metadata": {},
     "output_type": "execute_result"
    }
   ],
   "source": [
    "# Combine two dataframes based on the product ID column acting as the primary key\n",
    "data=pd.merge(data,price,how='left',left_on='item_ID',right_on='productID')\n",
    "data"
   ]
  },
  {
   "cell_type": "code",
   "execution_count": 4,
   "id": "4ed0acd0",
   "metadata": {},
   "outputs": [
    {
     "name": "stdout",
     "output_type": "stream",
     "text": [
      "<class 'pandas.core.frame.DataFrame'>\n",
      "RangeIndex: 105335 entries, 0 to 105334\n",
      "Data columns (total 9 columns):\n",
      " #   Column           Non-Null Count   Dtype  \n",
      "---  ------           --------------   -----  \n",
      " 0   purchaseid       105335 non-null  object \n",
      " 1   item_ID          105335 non-null  object \n",
      " 2   Quantity         105335 non-null  int64  \n",
      " 3   purchasedate     105335 non-null  object \n",
      " 4   CustomerID       69125 non-null   float64\n",
      " 5   loyalty_program  105335 non-null  int64  \n",
      " 6   ShopID           105335 non-null  object \n",
      " 7   productID        105335 non-null  object \n",
      " 8   price_per_one    105335 non-null  float64\n",
      "dtypes: float64(2), int64(2), object(5)\n",
      "memory usage: 7.2+ MB\n"
     ]
    }
   ],
   "source": [
    "data.info()"
   ]
  },
  {
   "cell_type": "markdown",
   "id": "8a9f6fe4",
   "metadata": {},
   "source": [
    "## 3. Preprocessing"
   ]
  },
  {
   "cell_type": "markdown",
   "id": "72a39f55",
   "metadata": {},
   "source": [
    "### 3.1 Data Cleaning"
   ]
  },
  {
   "cell_type": "code",
   "execution_count": 5,
   "id": "ac46af91",
   "metadata": {},
   "outputs": [
    {
     "name": "stdout",
     "output_type": "stream",
     "text": [
      "Data Duplicate : 1033\n",
      "After Drop Duplicated : 0\n"
     ]
    }
   ],
   "source": [
    "# Check for duplicate data\n",
    "print('Data Duplicate :', data.duplicated().sum())\n",
    "\n",
    "if data.duplicated().sum()>0:\n",
    "    data.drop_duplicates(inplace=True)\n",
    "    print('After Drop Duplicated :', data.duplicated().sum())"
   ]
  },
  {
   "cell_type": "code",
   "execution_count": 6,
   "id": "120f5013",
   "metadata": {},
   "outputs": [
    {
     "data": {
      "text/plain": [
       "purchaseid             0\n",
       "item_ID                0\n",
       "Quantity               0\n",
       "purchasedate           0\n",
       "CustomerID         36148\n",
       "loyalty_program        0\n",
       "ShopID                 0\n",
       "productID              0\n",
       "price_per_one          0\n",
       "dtype: int64"
      ]
     },
     "execution_count": 6,
     "metadata": {},
     "output_type": "execute_result"
    }
   ],
   "source": [
    "# Check for null or NaN values\n",
    "data.isnull().sum()"
   ]
  },
  {
   "cell_type": "code",
   "execution_count": 7,
   "id": "b0c27be6",
   "metadata": {},
   "outputs": [
    {
     "name": "stdout",
     "output_type": "stream",
     "text": [
      "34.66 %\n"
     ]
    }
   ],
   "source": [
    "# Check the percentage of null values in the entire dataset\n",
    "print(round(data[data.CustomerID.isnull()].shape[0]/data.shape[0]*100,2),'%')"
   ]
  },
  {
   "cell_type": "markdown",
   "id": "adc39e98",
   "metadata": {},
   "source": [
    "### 3.2 Data Manipulation"
   ]
  },
  {
   "cell_type": "code",
   "execution_count": 8,
   "id": "c9c83913",
   "metadata": {},
   "outputs": [],
   "source": [
    "# Generate random user IDs for null transaction IDs\n",
    "import random\n",
    "randomList=[]\n",
    "while len(randomList) < data[data.CustomerID.isnull()].purchaseid.nunique():\n",
    "    # Ensure the range of values is 4 digits to avoid matching existing user IDs\n",
    "    r=random.randint(1000,9999)\n",
    "    # Prevent ID duplication by ensuring unique creation\n",
    "    if r not in randomList:\n",
    "        randomList.append(r)"
   ]
  },
  {
   "cell_type": "code",
   "execution_count": 9,
   "id": "4c2771c8",
   "metadata": {
    "scrolled": true
   },
   "outputs": [],
   "source": [
    "# Fill null values with randomly generated user IDs\n",
    "purchase=data[data.purchaseid.isin(data[data.CustomerID.isnull()].purchaseid.unique())].purchaseid.unique()\n",
    "for x in range(len(randomList)):\n",
    "    data.loc[data.purchaseid==purchase[x], 'CustomerID'] = randomList[x]"
   ]
  },
  {
   "cell_type": "code",
   "execution_count": 10,
   "id": "9a5da441",
   "metadata": {},
   "outputs": [
    {
     "data": {
      "text/html": [
       "<div>\n",
       "<style scoped>\n",
       "    .dataframe tbody tr th:only-of-type {\n",
       "        vertical-align: middle;\n",
       "    }\n",
       "\n",
       "    .dataframe tbody tr th {\n",
       "        vertical-align: top;\n",
       "    }\n",
       "\n",
       "    .dataframe thead th {\n",
       "        text-align: right;\n",
       "    }\n",
       "</style>\n",
       "<table border=\"1\" class=\"dataframe\">\n",
       "  <thead>\n",
       "    <tr style=\"text-align: right;\">\n",
       "      <th></th>\n",
       "      <th>purchaseid</th>\n",
       "      <th>item_ID</th>\n",
       "      <th>Quantity</th>\n",
       "      <th>purchasedate</th>\n",
       "      <th>CustomerID</th>\n",
       "      <th>loyalty_program</th>\n",
       "      <th>ShopID</th>\n",
       "      <th>productID</th>\n",
       "      <th>price_per_one</th>\n",
       "    </tr>\n",
       "  </thead>\n",
       "  <tbody>\n",
       "    <tr>\n",
       "      <th>49411</th>\n",
       "      <td>C541433</td>\n",
       "      <td>23166</td>\n",
       "      <td>-74216</td>\n",
       "      <td>2017-01-18 10:17:00</td>\n",
       "      <td>18025.0</td>\n",
       "      <td>0</td>\n",
       "      <td>Shop 21</td>\n",
       "      <td>23166</td>\n",
       "      <td>1.04</td>\n",
       "    </tr>\n",
       "    <tr>\n",
       "      <th>39345</th>\n",
       "      <td>C536757</td>\n",
       "      <td>84347</td>\n",
       "      <td>-9361</td>\n",
       "      <td>2016-12-02 14:23:00</td>\n",
       "      <td>21517.0</td>\n",
       "      <td>0</td>\n",
       "      <td>Shop 17</td>\n",
       "      <td>84347</td>\n",
       "      <td>0.03</td>\n",
       "    </tr>\n",
       "    <tr>\n",
       "      <th>104960</th>\n",
       "      <td>540564</td>\n",
       "      <td>22617</td>\n",
       "      <td>-2601</td>\n",
       "      <td>2017-01-10 10:36:00</td>\n",
       "      <td>1985.0</td>\n",
       "      <td>0</td>\n",
       "      <td>Shop 0</td>\n",
       "      <td>22617</td>\n",
       "      <td>0.00</td>\n",
       "    </tr>\n",
       "    <tr>\n",
       "      <th>10687</th>\n",
       "      <td>543257</td>\n",
       "      <td>84611B</td>\n",
       "      <td>-1431</td>\n",
       "      <td>2017-02-04 16:06:00</td>\n",
       "      <td>3246.0</td>\n",
       "      <td>0</td>\n",
       "      <td>Shop 0</td>\n",
       "      <td>84611B</td>\n",
       "      <td>0.00</td>\n",
       "    </tr>\n",
       "    <tr>\n",
       "      <th>53844</th>\n",
       "      <td>541685</td>\n",
       "      <td>22351</td>\n",
       "      <td>-1401</td>\n",
       "      <td>2017-01-20 15:41:00</td>\n",
       "      <td>2213.0</td>\n",
       "      <td>0</td>\n",
       "      <td>Shop 0</td>\n",
       "      <td>22351</td>\n",
       "      <td>0.00</td>\n",
       "    </tr>\n",
       "    <tr>\n",
       "      <th>...</th>\n",
       "      <td>...</td>\n",
       "      <td>...</td>\n",
       "      <td>...</td>\n",
       "      <td>...</td>\n",
       "      <td>...</td>\n",
       "      <td>...</td>\n",
       "      <td>...</td>\n",
       "      <td>...</td>\n",
       "      <td>...</td>\n",
       "    </tr>\n",
       "    <tr>\n",
       "      <th>59854</th>\n",
       "      <td>C538692</td>\n",
       "      <td>22801</td>\n",
       "      <td>-2</td>\n",
       "      <td>2016-12-14 09:58:00</td>\n",
       "      <td>19278.0</td>\n",
       "      <td>0</td>\n",
       "      <td>Shop 23</td>\n",
       "      <td>22801</td>\n",
       "      <td>3.39</td>\n",
       "    </tr>\n",
       "    <tr>\n",
       "      <th>59788</th>\n",
       "      <td>C540793</td>\n",
       "      <td>POST</td>\n",
       "      <td>-2</td>\n",
       "      <td>2017-01-11 11:53:00</td>\n",
       "      <td>19974.0</td>\n",
       "      <td>0</td>\n",
       "      <td>Shop 2</td>\n",
       "      <td>POST</td>\n",
       "      <td>0.00</td>\n",
       "    </tr>\n",
       "    <tr>\n",
       "      <th>59721</th>\n",
       "      <td>C543608</td>\n",
       "      <td>82483</td>\n",
       "      <td>-2</td>\n",
       "      <td>2017-02-10 14:15:00</td>\n",
       "      <td>22909.0</td>\n",
       "      <td>1</td>\n",
       "      <td>Shop 23</td>\n",
       "      <td>82483</td>\n",
       "      <td>4.95</td>\n",
       "    </tr>\n",
       "    <tr>\n",
       "      <th>60103</th>\n",
       "      <td>C540950</td>\n",
       "      <td>22960</td>\n",
       "      <td>-2</td>\n",
       "      <td>2017-01-12 12:51:00</td>\n",
       "      <td>23905.0</td>\n",
       "      <td>1</td>\n",
       "      <td>Shop 27</td>\n",
       "      <td>22960</td>\n",
       "      <td>3.75</td>\n",
       "    </tr>\n",
       "    <tr>\n",
       "      <th>64</th>\n",
       "      <td>C539944</td>\n",
       "      <td>22776</td>\n",
       "      <td>-2</td>\n",
       "      <td>2016-12-23 11:38:00</td>\n",
       "      <td>20239.0</td>\n",
       "      <td>0</td>\n",
       "      <td>Shop 27</td>\n",
       "      <td>22776</td>\n",
       "      <td>8.50</td>\n",
       "    </tr>\n",
       "  </tbody>\n",
       "</table>\n",
       "<p>2076 rows × 9 columns</p>\n",
       "</div>"
      ],
      "text/plain": [
       "       purchaseid item_ID  Quantity         purchasedate  CustomerID  \\\n",
       "49411     C541433   23166    -74216  2017-01-18 10:17:00     18025.0   \n",
       "39345     C536757   84347     -9361  2016-12-02 14:23:00     21517.0   \n",
       "104960     540564   22617     -2601  2017-01-10 10:36:00      1985.0   \n",
       "10687      543257  84611B     -1431  2017-02-04 16:06:00      3246.0   \n",
       "53844      541685   22351     -1401  2017-01-20 15:41:00      2213.0   \n",
       "...           ...     ...       ...                  ...         ...   \n",
       "59854     C538692   22801        -2  2016-12-14 09:58:00     19278.0   \n",
       "59788     C540793    POST        -2  2017-01-11 11:53:00     19974.0   \n",
       "59721     C543608   82483        -2  2017-02-10 14:15:00     22909.0   \n",
       "60103     C540950   22960        -2  2017-01-12 12:51:00     23905.0   \n",
       "64        C539944   22776        -2  2016-12-23 11:38:00     20239.0   \n",
       "\n",
       "        loyalty_program   ShopID productID  price_per_one  \n",
       "49411                 0  Shop 21     23166           1.04  \n",
       "39345                 0  Shop 17     84347           0.03  \n",
       "104960                0   Shop 0     22617           0.00  \n",
       "10687                 0   Shop 0    84611B           0.00  \n",
       "53844                 0   Shop 0     22351           0.00  \n",
       "...                 ...      ...       ...            ...  \n",
       "59854                 0  Shop 23     22801           3.39  \n",
       "59788                 0   Shop 2      POST           0.00  \n",
       "59721                 1  Shop 23     82483           4.95  \n",
       "60103                 1  Shop 27     22960           3.75  \n",
       "64                    0  Shop 27     22776           8.50  \n",
       "\n",
       "[2076 rows x 9 columns]"
      ]
     },
     "execution_count": 10,
     "metadata": {},
     "output_type": "execute_result"
    }
   ],
   "source": [
    "# Check the minimum and maximum quantity values\n",
    "data[data.Quantity<0].sort_values('Quantity')"
   ]
  },
  {
   "cell_type": "code",
   "execution_count": 11,
   "id": "3e6fb688",
   "metadata": {},
   "outputs": [
    {
     "data": {
      "text/plain": [
       "34438"
      ]
     },
     "execution_count": 11,
     "metadata": {},
     "output_type": "execute_result"
    }
   ],
   "source": [
    "# Check for zero or negative values in the 'Quantity' column\n",
    "data[data.Quantity<=0].shape[0]"
   ]
  },
  {
   "cell_type": "code",
   "execution_count": 12,
   "id": "b57dbea7",
   "metadata": {},
   "outputs": [
    {
     "data": {
      "text/plain": [
       "16496"
      ]
     },
     "execution_count": 12,
     "metadata": {},
     "output_type": "execute_result"
    }
   ],
   "source": [
    "# Check for zero or negative values in the 'price_per_one' column\n",
    "data[data.price_per_one<=0].shape[0]"
   ]
  },
  {
   "cell_type": "code",
   "execution_count": 13,
   "id": "812ff5a0",
   "metadata": {},
   "outputs": [],
   "source": [
    "# Create a column for total transaction values\n",
    "data['price_total']=data.Quantity*data.price_per_one"
   ]
  },
  {
   "cell_type": "code",
   "execution_count": 14,
   "id": "516aa3e5",
   "metadata": {},
   "outputs": [],
   "source": [
    "# Convert columns with specific data types\n",
    "data.purchasedate = pd.to_datetime(data.purchasedate)\n",
    "data.sort_values('purchasedate',inplace=True)\n",
    "data['purchasedate']=data.purchasedate.dt.date\n",
    "data.purchasedate = pd.to_datetime(data.purchasedate, format='%Y-%m-%d')"
   ]
  },
  {
   "cell_type": "code",
   "execution_count": 15,
   "id": "1f91d7bf",
   "metadata": {},
   "outputs": [
    {
     "name": "stdout",
     "output_type": "stream",
     "text": [
      "Minimum date: 2016-12-01 00:00:00, Maximum date: 2017-02-28 00:00:00\n"
     ]
    }
   ],
   "source": [
    "# Check for the oldest and most recent transactions\n",
    "print(\"Minimum date: {}, Maximum date: {}\".format(data[\"purchasedate\"].min(),data[\"purchasedate\"].max()))"
   ]
  },
  {
   "cell_type": "markdown",
   "id": "37dab379",
   "metadata": {},
   "source": [
    "## 4. Exploratory Data Anaylsis"
   ]
  },
  {
   "cell_type": "markdown",
   "id": "f954ed4e",
   "metadata": {},
   "source": [
    "### Generate Function"
   ]
  },
  {
   "cell_type": "code",
   "execution_count": 16,
   "id": "aeb5291c",
   "metadata": {},
   "outputs": [],
   "source": [
    "def daily(data,label):\n",
    "    data=data.groupby([pd.Grouper(key='purchasedate',freq='d')]).aggregate('sum').reset_index()\n",
    "    data=data[data[label]!=0]\n",
    "    plt.figure(figsize=(10,3))\n",
    "    plt.bar(data=data,x='purchasedate',height=label)\n",
    "    print('Daily Average :', data[label].mean())\n",
    "    display(pd.concat([data.nlargest(n=1,columns=[label]),data.nsmallest(n=1, columns=[label])]))"
   ]
  },
  {
   "cell_type": "code",
   "execution_count": 17,
   "id": "4b96c0a2",
   "metadata": {},
   "outputs": [],
   "source": [
    "def amount(data,x,y):\n",
    "    plt.figure(figsize=(10,4))\n",
    "    amount=data.groupby(x)[y].sum().sort_values(ascending=False).iloc[:5].reset_index()\n",
    "    sns.barplot(data=amount, x=x, y=y,order=amount[x].value_counts().index)\n",
    "    x=amount[x]\n",
    "    y=amount[y]\n",
    "    for i in range(len(x)):\n",
    "        plt.text(i, y[i], y[i], ha = 'center')"
   ]
  },
  {
   "cell_type": "markdown",
   "id": "527b9cc7",
   "metadata": {},
   "source": [
    "### 4.1 Transaction Analysis"
   ]
  },
  {
   "cell_type": "markdown",
   "id": "1f87110a-ce5a-47a0-bdff-d50b8df839fb",
   "metadata": {},
   "source": [
    "#### 4.1.1 Daily Transactions Amount"
   ]
  },
  {
   "cell_type": "code",
   "execution_count": 18,
   "id": "6de0bf8b",
   "metadata": {},
   "outputs": [
    {
     "data": {
      "text/html": [
       "<div>\n",
       "<style scoped>\n",
       "    .dataframe tbody tr th:only-of-type {\n",
       "        vertical-align: middle;\n",
       "    }\n",
       "\n",
       "    .dataframe tbody tr th {\n",
       "        vertical-align: top;\n",
       "    }\n",
       "\n",
       "    .dataframe thead th {\n",
       "        text-align: right;\n",
       "    }\n",
       "</style>\n",
       "<table border=\"1\" class=\"dataframe\">\n",
       "  <thead>\n",
       "    <tr style=\"text-align: right;\">\n",
       "      <th></th>\n",
       "      <th>purchasedate</th>\n",
       "      <th>transaction</th>\n",
       "      <th>day</th>\n",
       "    </tr>\n",
       "  </thead>\n",
       "  <tbody>\n",
       "    <tr>\n",
       "      <th>3</th>\n",
       "      <td>2016-12-04</td>\n",
       "      <td>0</td>\n",
       "      <td>Sunday</td>\n",
       "    </tr>\n",
       "    <tr>\n",
       "      <th>10</th>\n",
       "      <td>2016-12-11</td>\n",
       "      <td>0</td>\n",
       "      <td>Sunday</td>\n",
       "    </tr>\n",
       "    <tr>\n",
       "      <th>17</th>\n",
       "      <td>2016-12-18</td>\n",
       "      <td>0</td>\n",
       "      <td>Sunday</td>\n",
       "    </tr>\n",
       "    <tr>\n",
       "      <th>23</th>\n",
       "      <td>2016-12-24</td>\n",
       "      <td>0</td>\n",
       "      <td>Saturday</td>\n",
       "    </tr>\n",
       "    <tr>\n",
       "      <th>24</th>\n",
       "      <td>2016-12-25</td>\n",
       "      <td>0</td>\n",
       "      <td>Sunday</td>\n",
       "    </tr>\n",
       "    <tr>\n",
       "      <th>25</th>\n",
       "      <td>2016-12-26</td>\n",
       "      <td>0</td>\n",
       "      <td>Monday</td>\n",
       "    </tr>\n",
       "    <tr>\n",
       "      <th>26</th>\n",
       "      <td>2016-12-27</td>\n",
       "      <td>0</td>\n",
       "      <td>Tuesday</td>\n",
       "    </tr>\n",
       "    <tr>\n",
       "      <th>27</th>\n",
       "      <td>2016-12-28</td>\n",
       "      <td>0</td>\n",
       "      <td>Wednesday</td>\n",
       "    </tr>\n",
       "    <tr>\n",
       "      <th>28</th>\n",
       "      <td>2016-12-29</td>\n",
       "      <td>0</td>\n",
       "      <td>Thursday</td>\n",
       "    </tr>\n",
       "    <tr>\n",
       "      <th>29</th>\n",
       "      <td>2016-12-30</td>\n",
       "      <td>0</td>\n",
       "      <td>Friday</td>\n",
       "    </tr>\n",
       "    <tr>\n",
       "      <th>30</th>\n",
       "      <td>2016-12-31</td>\n",
       "      <td>0</td>\n",
       "      <td>Saturday</td>\n",
       "    </tr>\n",
       "    <tr>\n",
       "      <th>31</th>\n",
       "      <td>2017-01-01</td>\n",
       "      <td>0</td>\n",
       "      <td>Sunday</td>\n",
       "    </tr>\n",
       "    <tr>\n",
       "      <th>32</th>\n",
       "      <td>2017-01-02</td>\n",
       "      <td>0</td>\n",
       "      <td>Monday</td>\n",
       "    </tr>\n",
       "    <tr>\n",
       "      <th>33</th>\n",
       "      <td>2017-01-03</td>\n",
       "      <td>0</td>\n",
       "      <td>Tuesday</td>\n",
       "    </tr>\n",
       "    <tr>\n",
       "      <th>38</th>\n",
       "      <td>2017-01-08</td>\n",
       "      <td>0</td>\n",
       "      <td>Sunday</td>\n",
       "    </tr>\n",
       "    <tr>\n",
       "      <th>45</th>\n",
       "      <td>2017-01-15</td>\n",
       "      <td>0</td>\n",
       "      <td>Sunday</td>\n",
       "    </tr>\n",
       "    <tr>\n",
       "      <th>52</th>\n",
       "      <td>2017-01-22</td>\n",
       "      <td>0</td>\n",
       "      <td>Sunday</td>\n",
       "    </tr>\n",
       "    <tr>\n",
       "      <th>59</th>\n",
       "      <td>2017-01-29</td>\n",
       "      <td>0</td>\n",
       "      <td>Sunday</td>\n",
       "    </tr>\n",
       "    <tr>\n",
       "      <th>66</th>\n",
       "      <td>2017-02-05</td>\n",
       "      <td>0</td>\n",
       "      <td>Sunday</td>\n",
       "    </tr>\n",
       "    <tr>\n",
       "      <th>73</th>\n",
       "      <td>2017-02-12</td>\n",
       "      <td>0</td>\n",
       "      <td>Sunday</td>\n",
       "    </tr>\n",
       "    <tr>\n",
       "      <th>80</th>\n",
       "      <td>2017-02-19</td>\n",
       "      <td>0</td>\n",
       "      <td>Sunday</td>\n",
       "    </tr>\n",
       "    <tr>\n",
       "      <th>87</th>\n",
       "      <td>2017-02-26</td>\n",
       "      <td>0</td>\n",
       "      <td>Sunday</td>\n",
       "    </tr>\n",
       "  </tbody>\n",
       "</table>\n",
       "</div>"
      ],
      "text/plain": [
       "   purchasedate  transaction        day\n",
       "3    2016-12-04            0     Sunday\n",
       "10   2016-12-11            0     Sunday\n",
       "17   2016-12-18            0     Sunday\n",
       "23   2016-12-24            0   Saturday\n",
       "24   2016-12-25            0     Sunday\n",
       "25   2016-12-26            0     Monday\n",
       "26   2016-12-27            0    Tuesday\n",
       "27   2016-12-28            0  Wednesday\n",
       "28   2016-12-29            0   Thursday\n",
       "29   2016-12-30            0     Friday\n",
       "30   2016-12-31            0   Saturday\n",
       "31   2017-01-01            0     Sunday\n",
       "32   2017-01-02            0     Monday\n",
       "33   2017-01-03            0    Tuesday\n",
       "38   2017-01-08            0     Sunday\n",
       "45   2017-01-15            0     Sunday\n",
       "52   2017-01-22            0     Sunday\n",
       "59   2017-01-29            0     Sunday\n",
       "66   2017-02-05            0     Sunday\n",
       "73   2017-02-12            0     Sunday\n",
       "80   2017-02-19            0     Sunday\n",
       "87   2017-02-26            0     Sunday"
      ]
     },
     "execution_count": 18,
     "metadata": {},
     "output_type": "execute_result"
    }
   ],
   "source": [
    "# Create a chart showing the number of transactions in one day\n",
    "data_transaction=data.groupby(['purchasedate']).size().reset_index(name='transaction')\n",
    "\n",
    "# Display daily data when there were no transactions at all\n",
    "daily_closed=data_transaction.groupby([pd.Grouper(key='purchasedate',\n",
    "                                                  freq='d')]).aggregate('sum').reset_index()\n",
    "daily_closed['day'] = daily_closed['purchasedate'].dt.day_name()\n",
    "daily_closed[daily_closed.transaction==0]"
   ]
  },
  {
   "cell_type": "markdown",
   "id": "545e1a49",
   "metadata": {},
   "source": [
    "Based on the data above, it can be seen that the \"Home World\" building materials retailer is closed every Sunday. Additionally, no transactions occurred over the 11-day period from December 24, 2016, to January 3, 2017. This is likely due to the store being closed for Christmas and New Year's holidays, resulting in no transactions during that time.\n",
    "\n",
    "Thus, in the next daily transaction exploration, the data will not include store holidays, only the days when the store operates."
   ]
  },
  {
   "cell_type": "code",
   "execution_count": 19,
   "id": "da81ce4c",
   "metadata": {
    "scrolled": true
   },
   "outputs": [
    {
     "name": "stdout",
     "output_type": "stream",
     "text": [
      "Daily Average : 1533.8529411764705\n"
     ]
    },
    {
     "data": {
      "text/html": [
       "<div>\n",
       "<style scoped>\n",
       "    .dataframe tbody tr th:only-of-type {\n",
       "        vertical-align: middle;\n",
       "    }\n",
       "\n",
       "    .dataframe tbody tr th {\n",
       "        vertical-align: top;\n",
       "    }\n",
       "\n",
       "    .dataframe thead th {\n",
       "        text-align: right;\n",
       "    }\n",
       "</style>\n",
       "<table border=\"1\" class=\"dataframe\">\n",
       "  <thead>\n",
       "    <tr style=\"text-align: right;\">\n",
       "      <th></th>\n",
       "      <th>purchasedate</th>\n",
       "      <th>transaction</th>\n",
       "    </tr>\n",
       "  </thead>\n",
       "  <tbody>\n",
       "    <tr>\n",
       "      <th>5</th>\n",
       "      <td>2016-12-06</td>\n",
       "      <td>3830</td>\n",
       "    </tr>\n",
       "    <tr>\n",
       "      <th>67</th>\n",
       "      <td>2017-02-06</td>\n",
       "      <td>273</td>\n",
       "    </tr>\n",
       "  </tbody>\n",
       "</table>\n",
       "</div>"
      ],
      "text/plain": [
       "   purchasedate  transaction\n",
       "5    2016-12-06         3830\n",
       "67   2017-02-06          273"
      ]
     },
     "metadata": {},
     "output_type": "display_data"
    },
    {
     "data": {
      "image/png": "[encoded data removed]",
      "text/plain": [
       "<Figure size 720x216 with 1 Axes>"
      ]
     },
     "metadata": {
      "needs_background": "light"
     },
     "output_type": "display_data"
    }
   ],
   "source": [
    "# Visualization of the daily data distribution\n",
    "daily(data_transaction,'transaction')"
   ]
  },
  {
   "cell_type": "markdown",
   "id": "9970cee5",
   "metadata": {},
   "source": [
    "On average, there are 1533 transactions per purchase (purchase ID) each day. The highest daily transaction peak per purchase occurred on December 6, 2016, with a total of 3830 transactions. The lowest daily transaction count per purchase occurred on February 6, 2017, with a total of 273 transactions."
   ]
  },
  {
   "cell_type": "markdown",
   "id": "35c55f62-b5cf-4435-b93e-114038edb2c0",
   "metadata": {},
   "source": [
    "#### 4.1.2 Daily Transactions Value"
   ]
  },
  {
   "cell_type": "code",
   "execution_count": 20,
   "id": "68167eee",
   "metadata": {
    "scrolled": true
   },
   "outputs": [
    {
     "name": "stdout",
     "output_type": "stream",
     "text": [
      "Daily Average : 15940.170588235296\n"
     ]
    },
    {
     "data": {
      "text/html": [
       "<div>\n",
       "<style scoped>\n",
       "    .dataframe tbody tr th:only-of-type {\n",
       "        vertical-align: middle;\n",
       "    }\n",
       "\n",
       "    .dataframe tbody tr th {\n",
       "        vertical-align: top;\n",
       "    }\n",
       "\n",
       "    .dataframe thead th {\n",
       "        text-align: right;\n",
       "    }\n",
       "</style>\n",
       "<table border=\"1\" class=\"dataframe\">\n",
       "  <thead>\n",
       "    <tr style=\"text-align: right;\">\n",
       "      <th></th>\n",
       "      <th>purchasedate</th>\n",
       "      <th>price_total</th>\n",
       "    </tr>\n",
       "  </thead>\n",
       "  <tbody>\n",
       "    <tr>\n",
       "      <th>48</th>\n",
       "      <td>2017-01-18</td>\n",
       "      <td>85314.88</td>\n",
       "    </tr>\n",
       "    <tr>\n",
       "      <th>67</th>\n",
       "      <td>2017-02-06</td>\n",
       "      <td>1888.13</td>\n",
       "    </tr>\n",
       "  </tbody>\n",
       "</table>\n",
       "</div>"
      ],
      "text/plain": [
       "   purchasedate  price_total\n",
       "48   2017-01-18     85314.88\n",
       "67   2017-02-06      1888.13"
      ]
     },
     "metadata": {},
     "output_type": "display_data"
    },
    {
     "data": {
      "image/png": "[encoded data removed]",
      "text/plain": [
       "<Figure size 720x216 with 1 Axes>"
      ]
     },
     "metadata": {
      "needs_background": "light"
     },
     "output_type": "display_data"
    }
   ],
   "source": [
    "# Create a chart showing the total transaction value in one day\n",
    "data_price=data[data.price_total>0].groupby('purchasedate')['price_total'].sum().reset_index()\n",
    "daily(data_price,'price_total')"
   ]
  },
  {
   "cell_type": "markdown",
   "id": "718ee2bf",
   "metadata": {},
   "source": [
    "The average daily transaction value is 15940. The highest daily transaction value occurred on January 18, 2017, amounting to 85314, while the lowest daily transaction value occurred on June 22, 2017, with a value of 1888."
   ]
  },
  {
   "cell_type": "markdown",
   "id": "8c6f9f43-cea8-4e1d-a187-12db0a194c83",
   "metadata": {},
   "source": [
    "#### 4.1.3 Weekly Transaction Trends"
   ]
  },
  {
   "cell_type": "code",
   "execution_count": 21,
   "id": "e9bf5e82",
   "metadata": {},
   "outputs": [
    {
     "name": "stdout",
     "output_type": "stream",
     "text": [
      "       weekly  transaction rate_transaction  price_total rate_price\n",
      "0  2016-11-27         7315            nan %     70190.41      nan %\n",
      "1  2016-12-04        17601         140.62 %    148825.08   112.03 %\n",
      "2  2016-12-11        11951          -32.1 %    112826.47   -24.19 %\n",
      "3  2016-12-18         5088         -57.43 %     41191.22   -63.49 %\n",
      "4  2016-12-25            0         -100.0 %         0.00   -100.0 %\n",
      "5  2017-01-01         6539            inf %     67605.06      inf %\n",
      "6  2017-01-08         9261          41.63 %    106430.60    57.43 %\n",
      "7  2017-01-15         9082          -1.93 %    151168.48    42.03 %\n",
      "8  2017-01-22         7804         -14.07 %     69797.13   -53.83 %\n",
      "9  2017-01-29         7374          -5.51 %     70984.71      1.7 %\n",
      "10 2017-02-05         5354         -27.39 %     60430.97   -14.87 %\n",
      "11 2017-02-12         6785          26.73 %     81803.16    35.37 %\n",
      "12 2017-02-19         7644          12.66 %     87720.73     7.23 %\n",
      "13 2017-02-26         2504         -67.24 %     14957.58   -82.95 %\n"
     ]
    },
    {
     "data": {
      "image/png": "[encoded data removed]",
      "text/plain": [
       "<Figure size 1296x288 with 2 Axes>"
      ]
     },
     "metadata": {
      "needs_background": "light"
     },
     "output_type": "display_data"
    }
   ],
   "source": [
    "# Create a percentage increase in the number of weekly transactions\n",
    "data_transaction['weekly']=pd.to_datetime(data_transaction['purchasedate']) - pd.to_timedelta(7, unit='d')\n",
    "data_weekly1=data_transaction.iloc[:,1:].groupby([pd.Grouper(key='weekly',freq='W')]).aggregate('sum').reset_index()\n",
    "data_weekly1['rate_transaction']=data_weekly1.diff().transaction/data_weekly1.transaction.shift(1)*100\n",
    "data_weekly1['rate_transaction']=data_weekly1['rate_transaction'].round(2).astype(str)+str(' %')\n",
    "\n",
    "# Create a percentage increase in the value of weekly transactions\n",
    "data_price['weekly']=pd.to_datetime(data_price['purchasedate']) - pd.to_timedelta(7, unit='d')\n",
    "data_weekly2=data_price.iloc[:,1:].groupby([pd.Grouper(key='weekly',freq='W')]).aggregate('sum').reset_index()\n",
    "data_weekly2['rate_price']=data_weekly2.diff().price_total/data_weekly2.price_total.shift(1)*100\n",
    "data_weekly2['rate_price']=data_weekly2['rate_price'].round(2).astype(str)+str(' %')\n",
    "\n",
    "# Merge the two dataframes that have been created\n",
    "data_weekly=pd.merge(data_weekly1,data_weekly2)\n",
    "plt.figure(figsize=(18,4))\n",
    "plt.subplot(1,2,1)\n",
    "plt.plot(data_weekly[['weekly','transaction']].set_index('weekly'),label='transaction')\n",
    "plt.plot(data_weekly[['weekly','price_total']].set_index('weekly'),label='price_total')\n",
    "plt.legend()\n",
    "plt.subplot(1,2,2)\n",
    "sns.regplot(data=data_weekly,x='transaction',y='price_total')\n",
    "print(data_weekly)"
   ]
  },
  {
   "cell_type": "code",
   "execution_count": 22,
   "id": "97b597ab",
   "metadata": {},
   "outputs": [
    {
     "data": {
      "text/html": [
       "<div>\n",
       "<style scoped>\n",
       "    .dataframe tbody tr th:only-of-type {\n",
       "        vertical-align: middle;\n",
       "    }\n",
       "\n",
       "    .dataframe tbody tr th {\n",
       "        vertical-align: top;\n",
       "    }\n",
       "\n",
       "    .dataframe thead th {\n",
       "        text-align: right;\n",
       "    }\n",
       "</style>\n",
       "<table border=\"1\" class=\"dataframe\">\n",
       "  <thead>\n",
       "    <tr style=\"text-align: right;\">\n",
       "      <th></th>\n",
       "      <th>weekly</th>\n",
       "      <th>transaction</th>\n",
       "      <th>rate_transaction</th>\n",
       "      <th>price_total</th>\n",
       "      <th>rate_price</th>\n",
       "    </tr>\n",
       "  </thead>\n",
       "  <tbody>\n",
       "    <tr>\n",
       "      <th>0</th>\n",
       "      <td>2016-11-27</td>\n",
       "      <td>7315</td>\n",
       "      <td>nan %</td>\n",
       "      <td>70190.41</td>\n",
       "      <td>nan %</td>\n",
       "    </tr>\n",
       "    <tr>\n",
       "      <th>1</th>\n",
       "      <td>2016-12-04</td>\n",
       "      <td>17601</td>\n",
       "      <td>140.62 %</td>\n",
       "      <td>148825.08</td>\n",
       "      <td>112.03 %</td>\n",
       "    </tr>\n",
       "    <tr>\n",
       "      <th>2</th>\n",
       "      <td>2016-12-11</td>\n",
       "      <td>11951</td>\n",
       "      <td>-32.1 %</td>\n",
       "      <td>112826.47</td>\n",
       "      <td>-24.19 %</td>\n",
       "    </tr>\n",
       "    <tr>\n",
       "      <th>3</th>\n",
       "      <td>2016-12-18</td>\n",
       "      <td>5088</td>\n",
       "      <td>-57.43 %</td>\n",
       "      <td>41191.22</td>\n",
       "      <td>-63.49 %</td>\n",
       "    </tr>\n",
       "    <tr>\n",
       "      <th>4</th>\n",
       "      <td>2016-12-25</td>\n",
       "      <td>0</td>\n",
       "      <td>-100.0 %</td>\n",
       "      <td>0.00</td>\n",
       "      <td>-100.0 %</td>\n",
       "    </tr>\n",
       "    <tr>\n",
       "      <th>5</th>\n",
       "      <td>2017-01-01</td>\n",
       "      <td>6539</td>\n",
       "      <td>inf %</td>\n",
       "      <td>67605.06</td>\n",
       "      <td>inf %</td>\n",
       "    </tr>\n",
       "    <tr>\n",
       "      <th>6</th>\n",
       "      <td>2017-01-08</td>\n",
       "      <td>9261</td>\n",
       "      <td>41.63 %</td>\n",
       "      <td>106430.60</td>\n",
       "      <td>57.43 %</td>\n",
       "    </tr>\n",
       "    <tr>\n",
       "      <th>7</th>\n",
       "      <td>2017-01-15</td>\n",
       "      <td>9082</td>\n",
       "      <td>-1.93 %</td>\n",
       "      <td>151168.48</td>\n",
       "      <td>42.03 %</td>\n",
       "    </tr>\n",
       "    <tr>\n",
       "      <th>8</th>\n",
       "      <td>2017-01-22</td>\n",
       "      <td>7804</td>\n",
       "      <td>-14.07 %</td>\n",
       "      <td>69797.13</td>\n",
       "      <td>-53.83 %</td>\n",
       "    </tr>\n",
       "    <tr>\n",
       "      <th>9</th>\n",
       "      <td>2017-01-29</td>\n",
       "      <td>7374</td>\n",
       "      <td>-5.51 %</td>\n",
       "      <td>70984.71</td>\n",
       "      <td>1.7 %</td>\n",
       "    </tr>\n",
       "    <tr>\n",
       "      <th>10</th>\n",
       "      <td>2017-02-05</td>\n",
       "      <td>5354</td>\n",
       "      <td>-27.39 %</td>\n",
       "      <td>60430.97</td>\n",
       "      <td>-14.87 %</td>\n",
       "    </tr>\n",
       "    <tr>\n",
       "      <th>11</th>\n",
       "      <td>2017-02-12</td>\n",
       "      <td>6785</td>\n",
       "      <td>26.73 %</td>\n",
       "      <td>81803.16</td>\n",
       "      <td>35.37 %</td>\n",
       "    </tr>\n",
       "    <tr>\n",
       "      <th>12</th>\n",
       "      <td>2017-02-19</td>\n",
       "      <td>7644</td>\n",
       "      <td>12.66 %</td>\n",
       "      <td>87720.73</td>\n",
       "      <td>7.23 %</td>\n",
       "    </tr>\n",
       "    <tr>\n",
       "      <th>13</th>\n",
       "      <td>2017-02-26</td>\n",
       "      <td>2504</td>\n",
       "      <td>-67.24 %</td>\n",
       "      <td>14957.58</td>\n",
       "      <td>-82.95 %</td>\n",
       "    </tr>\n",
       "  </tbody>\n",
       "</table>\n",
       "</div>"
      ],
      "text/plain": [
       "       weekly  transaction rate_transaction  price_total rate_price\n",
       "0  2016-11-27         7315            nan %     70190.41      nan %\n",
       "1  2016-12-04        17601         140.62 %    148825.08   112.03 %\n",
       "2  2016-12-11        11951          -32.1 %    112826.47   -24.19 %\n",
       "3  2016-12-18         5088         -57.43 %     41191.22   -63.49 %\n",
       "4  2016-12-25            0         -100.0 %         0.00   -100.0 %\n",
       "5  2017-01-01         6539            inf %     67605.06      inf %\n",
       "6  2017-01-08         9261          41.63 %    106430.60    57.43 %\n",
       "7  2017-01-15         9082          -1.93 %    151168.48    42.03 %\n",
       "8  2017-01-22         7804         -14.07 %     69797.13   -53.83 %\n",
       "9  2017-01-29         7374          -5.51 %     70984.71      1.7 %\n",
       "10 2017-02-05         5354         -27.39 %     60430.97   -14.87 %\n",
       "11 2017-02-12         6785          26.73 %     81803.16    35.37 %\n",
       "12 2017-02-19         7644          12.66 %     87720.73     7.23 %\n",
       "13 2017-02-26         2504         -67.24 %     14957.58   -82.95 %"
      ]
     },
     "execution_count": 22,
     "metadata": {},
     "output_type": "execute_result"
    }
   ],
   "source": [
    "data_weekly"
   ]
  },
  {
   "cell_type": "markdown",
   "id": "7d441478",
   "metadata": {},
   "source": [
    "Based on the scatterplot above, the number of transactions and the value of weekly transactions are positively correlated. The higher the number of transactions, the higher the transaction value generated. From the dataframe above, the highest weekly percentage increase occurred between the first and second weeks, with an increase of over 100%. Meanwhile, the lowest weekly percentage occurred between the 13th and 14th weeks, with a decrease of over 60% (exception of the 5th week there is a Christmas and New Year holiday)."
   ]
  },
  {
   "cell_type": "markdown",
   "id": "7b34831b-2186-4e26-8c29-02ddf0451306",
   "metadata": {},
   "source": [
    "#### 4.1.4 Monthly Transaction Trends"
   ]
  },
  {
   "cell_type": "code",
   "execution_count": 23,
   "id": "4f712900",
   "metadata": {
    "scrolled": true
   },
   "outputs": [
    {
     "data": {
      "text/html": [
       "<div>\n",
       "<style scoped>\n",
       "    .dataframe tbody tr th:only-of-type {\n",
       "        vertical-align: middle;\n",
       "    }\n",
       "\n",
       "    .dataframe tbody tr th {\n",
       "        vertical-align: top;\n",
       "    }\n",
       "\n",
       "    .dataframe thead th {\n",
       "        text-align: right;\n",
       "    }\n",
       "</style>\n",
       "<table border=\"1\" class=\"dataframe\">\n",
       "  <thead>\n",
       "    <tr style=\"text-align: right;\">\n",
       "      <th></th>\n",
       "      <th>purchasedate</th>\n",
       "      <th>month</th>\n",
       "      <th>transaction</th>\n",
       "      <th>rate_transaction</th>\n",
       "      <th>price_total</th>\n",
       "      <th>rate_price</th>\n",
       "    </tr>\n",
       "  </thead>\n",
       "  <tbody>\n",
       "    <tr>\n",
       "      <th>0</th>\n",
       "      <td>2016-12-31</td>\n",
       "      <td>December</td>\n",
       "      <td>41955</td>\n",
       "      <td>nan %</td>\n",
       "      <td>373033.18</td>\n",
       "      <td>nan %</td>\n",
       "    </tr>\n",
       "    <tr>\n",
       "      <th>1</th>\n",
       "      <td>2017-01-31</td>\n",
       "      <td>January</td>\n",
       "      <td>34895</td>\n",
       "      <td>-16.83 %</td>\n",
       "      <td>410839.72</td>\n",
       "      <td>10.13 %</td>\n",
       "    </tr>\n",
       "    <tr>\n",
       "      <th>2</th>\n",
       "      <td>2017-02-28</td>\n",
       "      <td>February</td>\n",
       "      <td>27452</td>\n",
       "      <td>-21.33 %</td>\n",
       "      <td>300058.70</td>\n",
       "      <td>-26.96 %</td>\n",
       "    </tr>\n",
       "  </tbody>\n",
       "</table>\n",
       "</div>"
      ],
      "text/plain": [
       "  purchasedate     month  transaction rate_transaction  price_total rate_price\n",
       "0   2016-12-31  December        41955            nan %    373033.18      nan %\n",
       "1   2017-01-31   January        34895         -16.83 %    410839.72    10.13 %\n",
       "2   2017-02-28  February        27452         -21.33 %    300058.70   -26.96 %"
      ]
     },
     "metadata": {},
     "output_type": "display_data"
    },
    {
     "data": {
      "text/plain": [
       "<matplotlib.legend.Legend at 0x1a7c4ed6f10>"
      ]
     },
     "execution_count": 23,
     "metadata": {},
     "output_type": "execute_result"
    },
    {
     "data": {
      "image/png": "[encoded data removed]",
      "text/plain": [
       "<Figure size 1152x288 with 2 Axes>"
      ]
     },
     "metadata": {
      "needs_background": "light"
     },
     "output_type": "display_data"
    }
   ],
   "source": [
    "# Create a percentage increase in the number of monthly transactions\n",
    "data_monthly1=data_transaction.iloc[:,:-1].groupby([pd.Grouper(key='purchasedate',freq='M')]).aggregate('sum').reset_index()\n",
    "data_monthly1['rate_transaction']=data_monthly1.diff().transaction/data_monthly1.transaction.shift(1)*100\n",
    "data_monthly1['rate_transaction']=data_monthly1['rate_transaction'].round(2).astype(str)+str(' %')\n",
    "\n",
    "# Create a percentage increase in the value of monthly transactions\n",
    "data_monthly2=data_price.iloc[:,:-1].groupby([pd.Grouper(key='purchasedate',freq='M')]).aggregate('sum').reset_index()\n",
    "data_monthly2['rate_price']=data_monthly2.diff().price_total/data_monthly2.price_total.shift(1)*100\n",
    "data_monthly2['rate_price']=data_monthly2['rate_price'].round(2).astype(str)+str(' %')\n",
    "\n",
    "# Merge the two dataframes that have been created\n",
    "data_monthly=pd.merge(data_monthly1,data_monthly2)\n",
    "data_monthly['month']=data_monthly['purchasedate'].dt.month_name()\n",
    "display(data_monthly.iloc[:,[0,-1,1,2,3,4]])\n",
    "\n",
    "plt.figure(figsize=(16,4))\n",
    "plt.subplot(1,2,1)\n",
    "sns.barplot(data=data_monthly,x='month',y='transaction',label='transaction')\n",
    "plt.legend()\n",
    "\n",
    "plt.subplot(1,2,2)\n",
    "sns.barplot(data=data_monthly,x='month',y='price_total',label='price_total')\n",
    "plt.legend()"
   ]
  },
  {
   "cell_type": "markdown",
   "id": "d67a59b5",
   "metadata": {},
   "source": [
    "Based on the monthly data, it can be seen that the number of transactions and the value of transactions consistently decreased. December had the highest number of transactions and transaction value compared to January and February. Even though 11 days in December were closed due to Christmas and New Year's holidays, it still had the most significant figures.\n",
    "\n",
    "The largest drop in transaction volume occurred from January to February, with a -21% decrease. Meanwhile, the largest decline in transaction value occurred from December to January, with an -11% drop."
   ]
  },
  {
   "cell_type": "markdown",
   "id": "cad88926",
   "metadata": {},
   "source": [
    "### 4.2 Customer Analysis"
   ]
  },
  {
   "cell_type": "markdown",
   "id": "d4d2d7bf-81b6-480c-a0c8-86239b46a6df",
   "metadata": {},
   "source": [
    "#### 4.2.1 Daily Active Customers"
   ]
  },
  {
   "cell_type": "code",
   "execution_count": 24,
   "id": "4721a40e",
   "metadata": {},
   "outputs": [
    {
     "name": "stdout",
     "output_type": "stream",
     "text": [
      "Daily Average : 63.9264705882353\n"
     ]
    },
    {
     "data": {
      "text/html": [
       "<div>\n",
       "<style scoped>\n",
       "    .dataframe tbody tr th:only-of-type {\n",
       "        vertical-align: middle;\n",
       "    }\n",
       "\n",
       "    .dataframe tbody tr th {\n",
       "        vertical-align: top;\n",
       "    }\n",
       "\n",
       "    .dataframe thead th {\n",
       "        text-align: right;\n",
       "    }\n",
       "</style>\n",
       "<table border=\"1\" class=\"dataframe\">\n",
       "  <thead>\n",
       "    <tr style=\"text-align: right;\">\n",
       "      <th></th>\n",
       "      <th>purchasedate</th>\n",
       "      <th>customer</th>\n",
       "    </tr>\n",
       "  </thead>\n",
       "  <tbody>\n",
       "    <tr>\n",
       "      <th>8</th>\n",
       "      <td>2016-12-09</td>\n",
       "      <td>173</td>\n",
       "    </tr>\n",
       "    <tr>\n",
       "      <th>67</th>\n",
       "      <td>2017-02-06</td>\n",
       "      <td>11</td>\n",
       "    </tr>\n",
       "  </tbody>\n",
       "</table>\n",
       "</div>"
      ],
      "text/plain": [
       "   purchasedate  customer\n",
       "8    2016-12-09       173\n",
       "67   2017-02-06        11"
      ]
     },
     "metadata": {},
     "output_type": "display_data"
    },
    {
     "data": {
      "image/png": "[encoded data removed]",
      "text/plain": [
       "<Figure size 720x216 with 1 Axes>"
      ]
     },
     "metadata": {
      "needs_background": "light"
     },
     "output_type": "display_data"
    }
   ],
   "source": [
    "# Create a chart showing the number of customers who made transactions in one day\n",
    "data_customer=data.groupby('purchasedate').CustomerID.nunique().reset_index(name='customer')\n",
    "\n",
    "# Visualization of the daily data distribution\n",
    "daily(data_customer,'customer')"
   ]
  },
  {
   "cell_type": "markdown",
   "id": "e8d9c33f",
   "metadata": {},
   "source": [
    "On average, 64 customers made transactions per day. The highest daily number of customers occurred on December 9, 2016, with 173 people. The lowest daily customer count occurred on February 6, 2017, with 11 people."
   ]
  },
  {
   "cell_type": "markdown",
   "id": "342adaf1-6a49-445a-b32a-41becaafe078",
   "metadata": {},
   "source": [
    "#### 4.2.2 Daily New Customers"
   ]
  },
  {
   "cell_type": "code",
   "execution_count": 25,
   "id": "47a24559",
   "metadata": {},
   "outputs": [
    {
     "name": "stdout",
     "output_type": "stream",
     "text": [
      "Daily Average : 36.720588235294116\n"
     ]
    },
    {
     "data": {
      "text/html": [
       "<div>\n",
       "<style scoped>\n",
       "    .dataframe tbody tr th:only-of-type {\n",
       "        vertical-align: middle;\n",
       "    }\n",
       "\n",
       "    .dataframe tbody tr th {\n",
       "        vertical-align: top;\n",
       "    }\n",
       "\n",
       "    .dataframe thead th {\n",
       "        text-align: right;\n",
       "    }\n",
       "</style>\n",
       "<table border=\"1\" class=\"dataframe\">\n",
       "  <thead>\n",
       "    <tr style=\"text-align: right;\">\n",
       "      <th></th>\n",
       "      <th>purchasedate</th>\n",
       "      <th>new_customer</th>\n",
       "    </tr>\n",
       "  </thead>\n",
       "  <tbody>\n",
       "    <tr>\n",
       "      <th>8</th>\n",
       "      <td>2016-12-09</td>\n",
       "      <td>134</td>\n",
       "    </tr>\n",
       "    <tr>\n",
       "      <th>67</th>\n",
       "      <td>2017-02-06</td>\n",
       "      <td>4</td>\n",
       "    </tr>\n",
       "  </tbody>\n",
       "</table>\n",
       "</div>"
      ],
      "text/plain": [
       "   purchasedate  new_customer\n",
       "8    2016-12-09           134\n",
       "67   2017-02-06             4"
      ]
     },
     "metadata": {},
     "output_type": "display_data"
    },
    {
     "data": {
      "image/png": "[encoded data removed]",
      "text/plain": [
       "<Figure size 720x216 with 1 Axes>"
      ]
     },
     "metadata": {
      "needs_background": "light"
     },
     "output_type": "display_data"
    }
   ],
   "source": [
    "# Create a chart showing the number of customers making their first transaction each day\n",
    "data_new = data.sort_values('purchasedate').groupby('CustomerID').first()\n",
    "data_new = data_new.groupby(['purchasedate']).size().reset_index(name='new_customer')\n",
    "\n",
    "# Visualization of the daily data distribution\n",
    "daily(data_new,'new_customer')"
   ]
  },
  {
   "cell_type": "markdown",
   "id": "321b6abd",
   "metadata": {},
   "source": [
    "On average, 36 new users make their first purchase each day. The peak of daily new user transactions occurred on December 9, 2016, with 134 users, while the lowest new user count occurred on February 6, 2017, with 4 users."
   ]
  },
  {
   "cell_type": "markdown",
   "id": "5edc2e4f-2a8d-4e58-a12c-4c58c2229637",
   "metadata": {},
   "source": [
    "#### 4.2.3 Customers Transaction Distribution"
   ]
  },
  {
   "cell_type": "code",
   "execution_count": 26,
   "id": "96ebceef",
   "metadata": {
    "scrolled": true
   },
   "outputs": [
    {
     "data": {
      "text/plain": [
       "Text(0.5, 1.0, 'Histogram Jumlah Transaksi per Customer')"
      ]
     },
     "execution_count": 26,
     "metadata": {},
     "output_type": "execute_result"
    },
    {
     "data": {
      "image/png": "[encoded data removed]",
      "text/plain": [
       "<Figure size 1080x288 with 1 Axes>"
      ]
     },
     "metadata": {
      "needs_background": "light"
     },
     "output_type": "display_data"
    }
   ],
   "source": [
    "# Create a histogram showing the number of purchases per customer\n",
    "plt.figure(figsize=(15,4))\n",
    "data.CustomerID.value_counts().hist(bins=75)\n",
    "plt.title('Histogram Jumlah Transaksi per Customer')"
   ]
  },
  {
   "cell_type": "markdown",
   "id": "8bd545ca-204a-4871-9450-f876dc0dbbd0",
   "metadata": {},
   "source": [
    "The data distribution in each group is divided into ranges of 10 transactions, as follows:\n",
    "1. Most customers have made between 0 and 10 purchases, with around 1000 people in this range.\n",
    "2. The second-largest group is customers who made between 11 and 20 purchases, with around 400 people.\n",
    "3. More than 200 people made between 21 and 30 purchases.\n",
    "4. As the transaction count increases, the number of customers in each group tends to decrease"
   ]
  },
  {
   "cell_type": "markdown",
   "id": "a3003730-0d21-4c4f-84be-b1a85a710b2f",
   "metadata": {},
   "source": [
    "#### 4.2.4 Top Performing Customers Transaction"
   ]
  },
  {
   "cell_type": "code",
   "execution_count": 27,
   "id": "fa30dcdc",
   "metadata": {},
   "outputs": [
    {
     "data": {
      "text/html": [
       "<div>\n",
       "<style scoped>\n",
       "    .dataframe tbody tr th:only-of-type {\n",
       "        vertical-align: middle;\n",
       "    }\n",
       "\n",
       "    .dataframe tbody tr th {\n",
       "        vertical-align: top;\n",
       "    }\n",
       "\n",
       "    .dataframe thead th {\n",
       "        text-align: right;\n",
       "    }\n",
       "</style>\n",
       "<table border=\"1\" class=\"dataframe\">\n",
       "  <thead>\n",
       "    <tr style=\"text-align: right;\">\n",
       "      <th></th>\n",
       "      <th>CustomerID</th>\n",
       "      <th>0</th>\n",
       "    </tr>\n",
       "  </thead>\n",
       "  <tbody>\n",
       "    <tr>\n",
       "      <th>2492</th>\n",
       "      <td>4403.0</td>\n",
       "      <td>675</td>\n",
       "    </tr>\n",
       "    <tr>\n",
       "      <th>2493</th>\n",
       "      <td>20990.0</td>\n",
       "      <td>715</td>\n",
       "    </tr>\n",
       "    <tr>\n",
       "      <th>2494</th>\n",
       "      <td>20285.0</td>\n",
       "      <td>745</td>\n",
       "    </tr>\n",
       "    <tr>\n",
       "      <th>2495</th>\n",
       "      <td>23520.0</td>\n",
       "      <td>751</td>\n",
       "    </tr>\n",
       "    <tr>\n",
       "      <th>2496</th>\n",
       "      <td>18427.0</td>\n",
       "      <td>774</td>\n",
       "    </tr>\n",
       "  </tbody>\n",
       "</table>\n",
       "</div>"
      ],
      "text/plain": [
       "      CustomerID    0\n",
       "2492      4403.0  675\n",
       "2493     20990.0  715\n",
       "2494     20285.0  745\n",
       "2495     23520.0  751\n",
       "2496     18427.0  774"
      ]
     },
     "execution_count": 27,
     "metadata": {},
     "output_type": "execute_result"
    }
   ],
   "source": [
    "data.groupby('CustomerID').size().sort_values().reset_index()[-5:]"
   ]
  },
  {
   "cell_type": "code",
   "execution_count": 28,
   "id": "5ac09339",
   "metadata": {},
   "outputs": [
    {
     "data": {
      "image/png": "[encoded data removed]",
      "text/plain": [
       "<Figure size 720x288 with 1 Axes>"
      ]
     },
     "metadata": {
      "needs_background": "light"
     },
     "output_type": "display_data"
    }
   ],
   "source": [
    "# List of the 5 customers with the most transactions\n",
    "amount(data.groupby('CustomerID').size().sort_values().reset_index()[-5:],x='CustomerID',y=0)"
   ]
  },
  {
   "cell_type": "markdown",
   "id": "01f585bf",
   "metadata": {},
   "source": [
    "The diagram above shows the top 5 customers based on the number of transactions they have made. The customer with ID '18427' ranks first, having made 774 transactions. Only 4 customers have made more than 700 transactions"
   ]
  },
  {
   "cell_type": "code",
   "execution_count": 29,
   "id": "6962fb95",
   "metadata": {},
   "outputs": [
    {
     "data": {
      "image/png": "[encoded data removed]",
      "text/plain": [
       "<Figure size 720x288 with 1 Axes>"
      ]
     },
     "metadata": {
      "needs_background": "light"
     },
     "output_type": "display_data"
    }
   ],
   "source": [
    "# List of the 5 customers with the highest transaction value\n",
    "amount(data,x='CustomerID',y='price_total')"
   ]
  },
  {
   "cell_type": "markdown",
   "id": "7fa96a68",
   "metadata": {},
   "source": [
    "The graph above shows the top 5 customers with the highest transaction values based on the total amount spent."
   ]
  },
  {
   "cell_type": "markdown",
   "id": "3738ccb7",
   "metadata": {},
   "source": [
    "### 4.3 Seller Analysis"
   ]
  },
  {
   "cell_type": "markdown",
   "id": "8dcbf8f3-bd8e-4768-a38e-e045d7841430",
   "metadata": {},
   "source": [
    "#### 4.3.1 Top Sellers by Transaction Share:"
   ]
  },
  {
   "cell_type": "code",
   "execution_count": 30,
   "id": "f1d8c11a",
   "metadata": {
    "scrolled": true
   },
   "outputs": [
    {
     "data": {
      "text/plain": [
       "<AxesSubplot:>"
      ]
     },
     "execution_count": 30,
     "metadata": {},
     "output_type": "execute_result"
    },
    {
     "data": {
      "image/png": "[encoded data removed]",
      "text/plain": [
       "<Figure size 360x360 with 1 Axes>"
      ]
     },
     "metadata": {},
     "output_type": "display_data"
    }
   ],
   "source": [
    "# Create a pie chart showing the percentage of purchases at various stores\n",
    "other=data.ShopID.value_counts().sort_values(ascending=False).reset_index()[5:]['count'].sum()\n",
    "other=pd.Series({'Other':other})\n",
    "top5=data.ShopID.value_counts().sort_values(ascending=False).head(5)\n",
    "plt.figure(figsize=(5,5))\n",
    "pd.concat([top5,other]).plot.pie(autopct='%0.1f%%')"
   ]
  },
  {
   "cell_type": "code",
   "execution_count": 31,
   "id": "6b023f85",
   "metadata": {
    "scrolled": true
   },
   "outputs": [
    {
     "data": {
      "text/html": [
       "<div>\n",
       "<style scoped>\n",
       "    .dataframe tbody tr th:only-of-type {\n",
       "        vertical-align: middle;\n",
       "    }\n",
       "\n",
       "    .dataframe tbody tr th {\n",
       "        vertical-align: top;\n",
       "    }\n",
       "\n",
       "    .dataframe thead th {\n",
       "        text-align: right;\n",
       "    }\n",
       "</style>\n",
       "<table border=\"1\" class=\"dataframe\">\n",
       "  <thead>\n",
       "    <tr style=\"text-align: right;\">\n",
       "      <th></th>\n",
       "      <th>index</th>\n",
       "      <th>0</th>\n",
       "    </tr>\n",
       "  </thead>\n",
       "  <tbody>\n",
       "    <tr>\n",
       "      <th>0</th>\n",
       "      <td>Shop 0</td>\n",
       "      <td>38303</td>\n",
       "    </tr>\n",
       "    <tr>\n",
       "      <th>1</th>\n",
       "      <td>Shop 1</td>\n",
       "      <td>2689</td>\n",
       "    </tr>\n",
       "    <tr>\n",
       "      <th>2</th>\n",
       "      <td>Shop 15</td>\n",
       "      <td>2679</td>\n",
       "    </tr>\n",
       "    <tr>\n",
       "      <th>3</th>\n",
       "      <td>Shop 24</td>\n",
       "      <td>2624</td>\n",
       "    </tr>\n",
       "    <tr>\n",
       "      <th>4</th>\n",
       "      <td>Shop 22</td>\n",
       "      <td>2538</td>\n",
       "    </tr>\n",
       "    <tr>\n",
       "      <th>5</th>\n",
       "      <td>Other</td>\n",
       "      <td>55469</td>\n",
       "    </tr>\n",
       "  </tbody>\n",
       "</table>\n",
       "</div>"
      ],
      "text/plain": [
       "     index      0\n",
       "0   Shop 0  38303\n",
       "1   Shop 1   2689\n",
       "2  Shop 15   2679\n",
       "3  Shop 24   2624\n",
       "4  Shop 22   2538\n",
       "5    Other  55469"
      ]
     },
     "execution_count": 31,
     "metadata": {},
     "output_type": "execute_result"
    }
   ],
   "source": [
    "# Table of sellers with the most transactions\n",
    "pd.concat([top5,other]).reset_index()"
   ]
  },
  {
   "cell_type": "markdown",
   "id": "400ce080",
   "metadata": {},
   "source": [
    "Based on the seller percentage of transactions:\n",
    "1. The seller with ID 'Shop 0' accounts for the most significant percentage, with 37.72% of transactions.\n",
    "2. Both 'Seller 1' and 'Seller 15' share the second-highest percentage, each with 2.6% of transactions.\n",
    "3. They are followed by 'Seller 24' and 'Seller 22', with percentages of 2.5% and 2.4%, respectively.\n",
    "4. The rest of the top 6 sellers are grouped under the label 'Other', contributing a combined 53.2%.\n",
    "\n",
    "There is a vast disparity in the number of transactions between 'Shop 0' and other sellers. In fact, the number of transactions at 'Shop 0' is 14 times higher than the seller in second place."
   ]
  },
  {
   "cell_type": "markdown",
   "id": "28c60545-b712-4c48-9a1f-457408c7d621",
   "metadata": {},
   "source": [
    "#### 4.3.2 Top Sellers by Transaction Value:"
   ]
  },
  {
   "cell_type": "code",
   "execution_count": 32,
   "id": "7d2c3c33",
   "metadata": {},
   "outputs": [
    {
     "data": {
      "image/png": "[encoded data removed]",
      "text/plain": [
       "<Figure size 720x288 with 1 Axes>"
      ]
     },
     "metadata": {
      "needs_background": "light"
     },
     "output_type": "display_data"
    }
   ],
   "source": [
    "# List of the 5 sellers with the highest transaction value\n",
    "amount(data,'ShopID',y='price_total')"
   ]
  },
  {
   "cell_type": "markdown",
   "id": "6c769305",
   "metadata": {},
   "source": [
    "The graph above shows the top 5 sellers based on transaction value, based on the total value of goods sold. 'Shop 15' ranks first, with a value exceeding 111 thousand, even though the number of transactions is 14 times smaller than that of 'Shop 0'."
   ]
  },
  {
   "cell_type": "markdown",
   "id": "0986dad2",
   "metadata": {},
   "source": [
    "### 4.4 Purchase Analysis per Receipt"
   ]
  },
  {
   "cell_type": "code",
   "execution_count": 33,
   "id": "223b457c",
   "metadata": {},
   "outputs": [
    {
     "name": "stdout",
     "output_type": "stream",
     "text": [
      "Average transactions per receipt \t\t: 21.312219043727012\n",
      "Highest number of transactions in one receipt\t: 675\n",
      "\n",
      "Average transaction value per receipt \t\t: 199.31468328565592\n",
      "Highest transaction value in one receipt \t: 77182.56\n"
     ]
    }
   ],
   "source": [
    "# Calculate the number of transactions per purchase\n",
    "print('Average transactions per receipt \\t\\t:', data.groupby('purchaseid').size().mean())\n",
    "print('Highest number of transactions in one receipt\\t:', data.groupby('purchaseid').size().max())\n",
    "\n",
    "print('\\nAverage transaction value per receipt \\t\\t:', data.groupby('purchaseid')['price_total'].sum().mean())\n",
    "print('Highest transaction value in one receipt \\t:', data.groupby('purchaseid')['price_total'].sum().max())"
   ]
  },
  {
   "cell_type": "markdown",
   "id": "dfacc26b",
   "metadata": {},
   "source": [
    "On average, there are 21 items purchased per receipt (purchase ID), with the highest number of items bought being 675 in a one receipt. The average transaction value per receipt is 199, with the highest transaction value in one receipt being 77182.\n",
    "\n"
   ]
  },
  {
   "cell_type": "markdown",
   "id": "4579554d",
   "metadata": {},
   "source": [
    "### 4.5 Loyalty Program Analysis"
   ]
  },
  {
   "cell_type": "code",
   "execution_count": 34,
   "id": "c39da604",
   "metadata": {
    "scrolled": true
   },
   "outputs": [],
   "source": [
    "# Clean data that does not have a valid customer ID\n",
    "data_clean=data[(data.CustomerID.astype(str).str.len()==7)&(data.price_total>0)]\n",
    "data_clean1=data[data.CustomerID.astype(str).str.len()==7]\n",
    "data_clean2=data[data.price_total>=0]"
   ]
  },
  {
   "cell_type": "markdown",
   "id": "b6b41e38",
   "metadata": {},
   "source": [
    "To analyze the transaction rate per customer, the data must first be cleaned by dropping entries that do not have a valid customer ID. In the previous preprocessing step, it was established that data with an invalid customer ID has a string length of 6 digits, so the data to be used will have customer IDs of 7 digits in length."
   ]
  },
  {
   "cell_type": "code",
   "execution_count": 35,
   "id": "fcc6bcd2",
   "metadata": {
    "scrolled": true
   },
   "outputs": [],
   "source": [
    "a=data_clean1.groupby('loyalty_program')['CustomerID'].nunique()\n",
    "b=data_clean1.loyalty_program.value_counts()\n",
    "c=data_clean1.groupby('loyalty_program')['purchaseid'].nunique()"
   ]
  },
  {
   "cell_type": "code",
   "execution_count": 36,
   "id": "33bab47b",
   "metadata": {},
   "outputs": [
    {
     "data": {
      "text/html": [
       "<div>\n",
       "<style scoped>\n",
       "    .dataframe tbody tr th:only-of-type {\n",
       "        vertical-align: middle;\n",
       "    }\n",
       "\n",
       "    .dataframe tbody tr th {\n",
       "        vertical-align: top;\n",
       "    }\n",
       "\n",
       "    .dataframe thead th {\n",
       "        text-align: right;\n",
       "    }\n",
       "</style>\n",
       "<table border=\"1\" class=\"dataframe\">\n",
       "  <thead>\n",
       "    <tr style=\"text-align: right;\">\n",
       "      <th></th>\n",
       "      <th>loyalty_program</th>\n",
       "      <th>CustomerID</th>\n",
       "      <th>count</th>\n",
       "      <th>rate</th>\n",
       "    </tr>\n",
       "  </thead>\n",
       "  <tbody>\n",
       "    <tr>\n",
       "      <th>0</th>\n",
       "      <td>0</td>\n",
       "      <td>1162</td>\n",
       "      <td>44742</td>\n",
       "      <td>38.50</td>\n",
       "    </tr>\n",
       "    <tr>\n",
       "      <th>1</th>\n",
       "      <td>1</td>\n",
       "      <td>587</td>\n",
       "      <td>23412</td>\n",
       "      <td>39.88</td>\n",
       "    </tr>\n",
       "  </tbody>\n",
       "</table>\n",
       "</div>"
      ],
      "text/plain": [
       "   loyalty_program  CustomerID  count   rate\n",
       "0                0        1162  44742  38.50\n",
       "1                1         587  23412  39.88"
      ]
     },
     "execution_count": 36,
     "metadata": {},
     "output_type": "execute_result"
    }
   ],
   "source": [
    "# The number of transactions per customer based on their loyalty program\n",
    "data1=pd.concat([a,b,(b/a).round(2)],axis=1).rename(columns={'loyalty_program':'counts',0:'rate'})\n",
    "data1=data1.reset_index().rename(columns={'index':'loyalty_program'})\n",
    "data1"
   ]
  },
  {
   "cell_type": "code",
   "execution_count": 37,
   "id": "5679e091",
   "metadata": {},
   "outputs": [
    {
     "data": {
      "image/png": "[encoded data removed]",
      "text/plain": [
       "<Figure size 576x432 with 1 Axes>"
      ]
     },
     "metadata": {
      "needs_background": "light"
     },
     "output_type": "display_data"
    }
   ],
   "source": [
    "# Tampilkan conversion rate masing-masing kelompok dalam grafik \n",
    "plt.figure(figsize=(8,6))\n",
    "x0=data1.iloc[0,2]\n",
    "n0=data1.iloc[0,1]\n",
    "x1=data1.iloc[1,2]\n",
    "n1=data1.iloc[1,1]\n",
    "x=['0','1']\n",
    "y=[x0/n0,x1/n1]\n",
    "y=list(np.around(np.array(np.array(y)),2))\n",
    "plt.bar(x=x,height=y,color=['orange','blue'])\n",
    "plt.ylim(0,45)\n",
    "for i in range(len(x)):\n",
    "    plt.text(i, y[i], s=f'{y[i]}', ha = 'center')"
   ]
  },
  {
   "cell_type": "markdown",
   "id": "104828fb",
   "metadata": {},
   "source": [
    "Based on the data above, customers in the loyalty program have a higher transaction rate than non-loyalty customers. On average, a loyalty program customer makes 39.88 transactions, higher than the 38.5 transactions per non-loyalty customer."
   ]
  },
  {
   "cell_type": "code",
   "execution_count": 38,
   "id": "6c698e48",
   "metadata": {},
   "outputs": [
    {
     "data": {
      "text/html": [
       "<div>\n",
       "<style scoped>\n",
       "    .dataframe tbody tr th:only-of-type {\n",
       "        vertical-align: middle;\n",
       "    }\n",
       "\n",
       "    .dataframe tbody tr th {\n",
       "        vertical-align: top;\n",
       "    }\n",
       "\n",
       "    .dataframe thead th {\n",
       "        text-align: right;\n",
       "    }\n",
       "</style>\n",
       "<table border=\"1\" class=\"dataframe\">\n",
       "  <thead>\n",
       "    <tr style=\"text-align: right;\">\n",
       "      <th></th>\n",
       "      <th>loyalty_program</th>\n",
       "      <th>Quantity</th>\n",
       "      <th>price_per_one</th>\n",
       "      <th>price_total</th>\n",
       "    </tr>\n",
       "  </thead>\n",
       "  <tbody>\n",
       "    <tr>\n",
       "      <th>0</th>\n",
       "      <td>0</td>\n",
       "      <td>8.604314</td>\n",
       "      <td>2.021320</td>\n",
       "      <td>10.213431</td>\n",
       "    </tr>\n",
       "    <tr>\n",
       "      <th>1</th>\n",
       "      <td>1</td>\n",
       "      <td>10.077757</td>\n",
       "      <td>2.096444</td>\n",
       "      <td>11.666697</td>\n",
       "    </tr>\n",
       "  </tbody>\n",
       "</table>\n",
       "</div>"
      ],
      "text/plain": [
       "   loyalty_program   Quantity  price_per_one  price_total\n",
       "0                0   8.604314       2.021320    10.213431\n",
       "1                1  10.077757       2.096444    11.666697"
      ]
     },
     "execution_count": 38,
     "metadata": {},
     "output_type": "execute_result"
    }
   ],
   "source": [
    "# View the average transaction value\n",
    "data2=data_clean2.groupby('loyalty_program')[['Quantity','price_per_one','price_total',]].mean().reset_index()\n",
    "data2"
   ]
  },
  {
   "cell_type": "code",
   "execution_count": 39,
   "id": "94e4fbaf",
   "metadata": {},
   "outputs": [
    {
     "data": {
      "image/png": "[encoded data removed]",
      "text/plain": [
       "<Figure size 576x432 with 1 Axes>"
      ]
     },
     "metadata": {
      "needs_background": "light"
     },
     "output_type": "display_data"
    }
   ],
   "source": [
    "# Show the conversion rate for each group in a chart\n",
    "plt.figure(figsize=(8,6))\n",
    "x=['0','1']\n",
    "y=[data2.iloc[0,3],data2.iloc[1,3]]\n",
    "y=list(np.around(np.array(np.array(y)),2))\n",
    "plt.bar(x=x,height=y,color=['orange','blue'])\n",
    "plt.ylim(0,13)\n",
    "for i in range(len(x)):\n",
    "    plt.text(i, y[i], s=f'{y[i]}', ha = 'center')"
   ]
  },
  {
   "cell_type": "markdown",
   "id": "1d1b0b97",
   "metadata": {},
   "source": [
    "According to the data, the average transaction value (quantity, total price, and price per item) for loyalty program customers is higher than for non-loyalty program customers."
   ]
  },
  {
   "cell_type": "markdown",
   "id": "76715563",
   "metadata": {},
   "source": [
    "## 5. Hypothesis Testing"
   ]
  },
  {
   "cell_type": "markdown",
   "id": "45e4402c",
   "metadata": {},
   "source": [
    "Z-test hypothesis testing is a crucial step to see whether the loyalty program has any effect on purchase transactions. Although previous analyses concluded that transactions made by customers in the loyalty program had higher quantities and values compared to non-loyalty program customers, it is necessary to confirm that this is not due to coincidence. This can be determined using a Z-test for proportions.\n",
    "\n",
    "To calculate the proportion in the Z-test, the data is divided into two groups: loyalty and non-loyalty. A threshold is set, representing the average number of transactions and transaction values made by each customer. Then, the proportion of each group is determined by comparing how many customers have made transactions exceeding the threshold relative to the total number of customers in their group. The proportion comparison will serve as the conversion rate for each group.\n",
    "\n",
    "The hypothesis criteria are as follows:\n",
    "1. Null Hypothesis (H0): The loyalty program does not affect the conversion rate.\n",
    "2. Alternative Hypothesis (Ha): The loyalty program does affect the conversion rate."
   ]
  },
  {
   "cell_type": "code",
   "execution_count": 40,
   "id": "0d5d6865",
   "metadata": {},
   "outputs": [
    {
     "data": {
      "text/html": [
       "<div>\n",
       "<style scoped>\n",
       "    .dataframe tbody tr th:only-of-type {\n",
       "        vertical-align: middle;\n",
       "    }\n",
       "\n",
       "    .dataframe tbody tr th {\n",
       "        vertical-align: top;\n",
       "    }\n",
       "\n",
       "    .dataframe thead th {\n",
       "        text-align: right;\n",
       "    }\n",
       "</style>\n",
       "<table border=\"1\" class=\"dataframe\">\n",
       "  <thead>\n",
       "    <tr style=\"text-align: right;\">\n",
       "      <th></th>\n",
       "      <th>loyalty_program</th>\n",
       "      <th>n_threshold</th>\n",
       "      <th>n_customer</th>\n",
       "      <th>conversion_rate</th>\n",
       "    </tr>\n",
       "  </thead>\n",
       "  <tbody>\n",
       "    <tr>\n",
       "      <th>0</th>\n",
       "      <td>No</td>\n",
       "      <td>344</td>\n",
       "      <td>1162</td>\n",
       "      <td>0.296041</td>\n",
       "    </tr>\n",
       "    <tr>\n",
       "      <th>1</th>\n",
       "      <td>Yes</td>\n",
       "      <td>208</td>\n",
       "      <td>587</td>\n",
       "      <td>0.354344</td>\n",
       "    </tr>\n",
       "  </tbody>\n",
       "</table>\n",
       "</div>"
      ],
      "text/plain": [
       "  loyalty_program  n_threshold  n_customer  conversion_rate\n",
       "0              No          344        1162         0.296041\n",
       "1             Yes          208         587         0.354344"
      ]
     },
     "execution_count": 40,
     "metadata": {},
     "output_type": "execute_result"
    }
   ],
   "source": [
    "# Determine the threshold for the average number of transactions per customer\n",
    "threshold1=data_clean1.CustomerID.value_counts().mean()\n",
    "\n",
    "# Determine the proportion value for each group for the number of transactions per customer\n",
    "non_member=data_clean1[data_clean1.loyalty_program==0]\n",
    "user_non=non_member.CustomerID.value_counts().reset_index()\n",
    "x0=user_non[user_non['count']>=threshold1].shape[0]\n",
    "n0=user_non.shape[0]\n",
    "\n",
    "member=data_clean1[data_clean1.loyalty_program==1]\n",
    "user_member=member.CustomerID.value_counts().reset_index()\n",
    "x1=user_member[user_member['count']>=threshold1].shape[0]\n",
    "n1=user_member.shape[0]\n",
    "\n",
    "pd.DataFrame({'loyalty_program':['No','Yes'],'n_threshold':[x0,x1],'n_customer':[n0,n1],'conversion_rate':[x0/n0,x1/n1]})"
   ]
  },
  {
   "cell_type": "code",
   "execution_count": 41,
   "id": "d8895492",
   "metadata": {},
   "outputs": [
    {
     "data": {
      "image/png": "[encoded data removed]",
      "text/plain": [
       "<Figure size 1080x432 with 1 Axes>"
      ]
     },
     "metadata": {
      "needs_background": "light"
     },
     "output_type": "display_data"
    }
   ],
   "source": [
    "# Display the conversion rate of each group in a chart \n",
    "plt.figure(figsize=(15,6))\n",
    "plt.subplot(1,2,1)\n",
    "plt.title('Conversion Rate Number of Transactions per Customer')\n",
    "x=['0','1']\n",
    "y=[x0/n0,x1/n1]\n",
    "y=list(np.around(np.array(np.array(y)*100),2))\n",
    "plt.bar(x=x,height=y,color=['orange','blue'])\n",
    "plt.ylim(0,40)\n",
    "for i in range(len(x)):\n",
    "    plt.text(i, y[i], s=f'  {y[i]}%', ha = 'center')"
   ]
  },
  {
   "cell_type": "markdown",
   "id": "a4912b75",
   "metadata": {},
   "source": [
    "Even though the conversion rate shows that the loyalty program can increase the average number of transactions per customer, a hypothesis test is still needed to determine whether the loyalty program has a significant impact or if it is just by chance. Therefore, the new recommendation system as a strategy to increase purchase transactions needs to be tested using a Z-test.\n",
    "\n",
    "The result of the Z-test will determine which hypothesis will be accepted, with the p-value interpretation as follows:\n",
    "1. P-value > 0.05 : Accept H0 and reject Ha. This means that the new recommendation system does not have an effect, and the higher conversion rate is due to chance.\n",
    "2. P-value <= 0.05 : Accept Ha and reject H0. This means that the new recommendation system has an effect, and the higher conversion rate is not due to chance."
   ]
  },
  {
   "cell_type": "code",
   "execution_count": 42,
   "id": "9cd3645f",
   "metadata": {
    "scrolled": true
   },
   "outputs": [
    {
     "name": "stdout",
     "output_type": "stream",
     "text": [
      "z-stat = -2.4773645922819236 \n",
      "p-value = 0.013235662053565115\n"
     ]
    }
   ],
   "source": [
    "# Do a Z-test for proportion to get the p-value\n",
    "count = np.array([x0,x1])\n",
    "nobs = np.array([n0,n1])\n",
    "z,p = proportions_ztest(count, nobs, value=0, alternative='two-sided')\n",
    "print('z-stat = {z} \\np-value = {p}'.format(z=z,p=p))"
   ]
  },
  {
   "cell_type": "markdown",
   "id": "466c3b04",
   "metadata": {},
   "source": [
    "Based on the Z-test result, with a p-value < 0.05, Ha is accepted, and H0 is rejected. This means that the loyalty program does indeed affect the number of transactions per customer. The higher number of transactions among loyalty program members compared to non-loyalty program customers is not coincidental. Therefore, the loyalty program contributes to an increase in the number of transactions at the store."
   ]
  },
  {
   "cell_type": "markdown",
   "id": "06f36333-6803-4281-bab4-b71af3d85f78",
   "metadata": {},
   "source": [
    "## 6. General Conclusion\n",
    "\n",
    "Based on the exploration, analysis, and hypothesis testing conducted, several conclusions can be drawn:\n",
    "\n",
    "1. In addition to the weekends (Saturday and Sunday), the store was also closed for 11 days due to Christmas and New Year's holidays.\n",
    "2. December 9, 2016, and February 6, 2017, were the busiest and quietest days, respectively, in terms of customers making transactions and new customers making their first purchase.\n",
    "3. Shop 0 emerged as a \"superpower\" seller in terms of the number of transactions. Shop 0 had 14 times more transactions than the seller in second place\n",
    "4. The number of transactions and transaction values at the store have been steadily decreasing month by month.\n",
    "5. The Z-test for proportions showed that the loyalty program has a significant impact on the number of transactions per customer."
   ]
  },
  {
   "cell_type": "markdown",
   "id": "bd744e59-5977-4b7d-a6b8-730f4e06c770",
   "metadata": {
    "scrolled": true
   },
   "source": [
    "## 7. Suggestions\n",
    "\n",
    "Since the loyalty program has been proven to increase the number of transactions per customer, it is recommended to further develop this program, such as by offering more events or special promotions for loyalty program customers. Reducing the loyalty program fee from $20 could also be considered to attract more customers to join the program"
   ]
  }
 ],
 "metadata": {
  "kernelspec": {
   "display_name": "Python 3 (ipykernel)",
   "language": "python",
   "name": "python3"
  },
  "language_info": {
   "codemirror_mode": {
    "name": "ipython",
    "version": 3
   },
   "file_extension": ".py",
   "mimetype": "text/x-python",
   "name": "python",
   "nbconvert_exporter": "python",
   "pygments_lexer": "ipython3",
   "version": "3.8.6"
  }
 },
 "nbformat": 4,
 "nbformat_minor": 5
}
